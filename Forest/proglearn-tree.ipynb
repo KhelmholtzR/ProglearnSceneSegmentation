{
 "cells": [
  {
   "cell_type": "markdown",
   "metadata": {},
   "source": [
    "# Scene Segmentation Experiment for ADE20K\n",
    "\n",
    "This notebook will investigate training the Proglearn classification forest on scene segmentation using the ADE20K dataset, http://groups.csail.mit.edu/vision/datasets/ADE20K/\n"
   ]
  },
  {
   "cell_type": "markdown",
   "metadata": {},
   "source": [
    "**Import packages**"
   ]
  },
  {
   "cell_type": "code",
   "execution_count": 3,
   "metadata": {},
   "outputs": [],
   "source": [
    "import numpy as np\n",
    "import keras\n",
    "\n",
    "import treefunctions as fn      # original python file"
   ]
  },
  {
   "cell_type": "markdown",
   "metadata": {},
   "source": [
    "**Import Data**"
   ]
  },
  {
   "cell_type": "code",
   "execution_count": 4,
   "metadata": {},
   "outputs": [],
   "source": [
    "# temporarily use dummy data\n",
    "\n",
    "x_train = [0, 1]\n",
    "x_test = [1, 0]\n",
    "y_train = [1, 0]\n",
    "y_test = [1, 1]\n",
    "\n",
    "x_data = np.concatenate((x_train, x_test))\n",
    "y_data = np.concatenate((y_train, y_test))"
   ]
  },
  {
   "cell_type": "markdown",
   "metadata": {},
   "source": [
    "**Define Hyperparameters**\n",
    "\n",
    "Later we may implement methods to optimize hyperparametrization"
   ]
  },
  {
   "cell_type": "code",
   "execution_count": 5,
   "metadata": {},
   "outputs": [],
   "source": [
    "# define hyperparameters\n",
    "\n",
    "model = \"uf\"                # uncertainty forest\n",
    "num_tasks = 5\n",
    "num_trees = 10\n",
    "num_points_per_task = 100\n",
    "reps = 50"
   ]
  },
  {
   "cell_type": "markdown",
   "metadata": {},
   "source": [
    "**Run Experiment**"
   ]
  },
  {
   "cell_type": "code",
   "execution_count": null,
   "metadata": {},
   "outputs": [],
   "source": [
    "# get accuracies\n",
    "accuracy = fn.train_forest(x_data, y_data, num_tasks, num_points_per_task, num_trees, reps)"
   ]
  },
  {
   "cell_type": "markdown",
   "metadata": {},
   "source": [
    "**Analyze Results**\n",
    "- accuracy (ACC)\n",
    "- forwards transfer efficiency (FTE)\n",
    "- backwards transfer efficiency (BTE)\n",
    "- overall transfer efficiency (TE)"
   ]
  },
  {
   "cell_type": "code",
   "execution_count": null,
   "metadata": {},
   "outputs": [],
   "source": [
    "# get results\n",
    "acc, bte, fte, te = fn.calculate_results(accuracy, num_tasks)\n",
    "\n",
    "# plot results\n",
    "fn.plot_results(acc, bte, fte, te)"
   ]
  }
 ],
 "metadata": {
  "interpreter": {
   "hash": "07926eab7dbcd9d432cf0ef14e21a50d2baab09d70503659ca28fd34d22c532c"
  },
  "kernelspec": {
   "display_name": "Python 3.9.7 64-bit",
   "name": "python3"
  },
  "language_info": {
   "codemirror_mode": {
    "name": "ipython",
    "version": 3
   },
   "file_extension": ".py",
   "mimetype": "text/x-python",
   "name": "python",
   "nbconvert_exporter": "python",
   "pygments_lexer": "ipython3",
   "version": "3.9.7"
  },
  "orig_nbformat": 4
 },
 "nbformat": 4,
 "nbformat_minor": 2
}
