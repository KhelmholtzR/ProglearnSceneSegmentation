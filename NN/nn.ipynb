{
 "cells": [
  {
   "cell_type": "markdown",
   "metadata": {},
   "source": [
    "# Neural Network"
   ]
  },
  {
   "cell_type": "code",
   "execution_count": 1,
   "metadata": {},
   "outputs": [
    {
     "name": "stdout",
     "output_type": "stream",
     "text": [
      "Model: \"sequential\"\n",
      "_________________________________________________________________\n",
      "Layer (type)                 Output Shape              Param #   \n",
      "=================================================================\n",
      "dense (Dense)                (None, 256, 256, 12)      48        \n",
      "_________________________________________________________________\n",
      "dense_1 (Dense)              (None, 256, 256, 8)       104       \n",
      "_________________________________________________________________\n",
      "dense_2 (Dense)              (None, 256, 256, 3)       27        \n",
      "=================================================================\n",
      "Total params: 179\n",
      "Trainable params: 179\n",
      "Non-trainable params: 0\n",
      "_________________________________________________________________\n"
     ]
    }
   ],
   "source": [
    "import keras\n",
    "from keras.layers import Dense, Conv2D, MaxPooling2D, concatenate, Conv2DTranspose\n",
    "import numpy as np\n",
    "\n",
    "# place holder data\n",
    "X_train = np.random.randn(50, 256,256, 3)\n",
    "y_train = np.round(np.random.randn(50, 256,256, 3))\n",
    "input_shape = (256, 256, 3)"
   ]
  },
  {
   "cell_type": "code",
   "execution_count": null,
   "metadata": {},
   "outputs": [],
   "source": [
    "def unet(input, num_input_neurons=64):\n",
    "    conv1 = Conv2D(num_input_neurons, (3,3), activation='relu', padding='same')(input)\n",
    "    conv1 = Conv2D(num_input_neurons, (3,3), activation='relu', padding='same')(conv1)\n",
    "    max_pool1 = MaxPooling2D((2,2))(conv1)\n",
    "\n",
    "    conv2 = Conv2D(num_input_neurons * 2, (3,3), activation='relu', padding='same')(max_pool1)\n",
    "    conv2 = Conv2D(num_start_neurons * 2, (3,3), activation = 'relu', padding='same')(conv2)\n",
    "    max_pool2 = MaxPooling2D((2,2))(conv2)\n",
    "\n",
    "    conv3 = Conv2D(num_input_neurons * 4, (3,3), activation='relu', padding='same')(max_pool2)\n",
    "    conv3 = Conv2D(num_input_neurons * 4, (3,3), activation='relu', padding='same')(conv3)\n",
    "    max_pool3 = MaxPooling2D((2,2))(conv3)\n",
    "\n",
    "\n",
    "    conv4 = Conv2D(num_input_neurons * 8, (3,3), activation='relu', padding='same')(max_pool3)\n",
    "    conv4 = Conv2D(num_input_neurons * 8, (3,3), activation='relu', padding='same')(conv4)\n",
    "    max_pool4 = MaxPooling2D((2,2))(conv4)\n",
    "\n",
    "\n",
    "    conv5 = Conv2D(num_input_neurons * 16, (3,3), activation='relu', padding='same')(max_pool4)\n",
    "    conv5 = Conv2D(num_input_neurons * 16, (3,3), activation='relu', padding='same')(conv5)\n",
    "    up_conv1 = Conv2DTranspose(num_input_neurons * 8, (3,3),strides=(2,2), activation='relu')(conv5)\n",
    "    up_conv1 = concatenate([up_conv1, conv4])\n",
    "    up_conv1 = Conv2D(num_input_neurons * 8, (3,3), activation='relu', padding='same')(up_conv1)\n",
    "    up_conv1 = Conv2D(num_input_neurons * 8, (3,3), activation='relu', padding='same')(up_conv1)\n",
    "\n",
    "    up_conv2 = Conv2DTranspose(num_input_neurons * 4, (3,3),strides=(2,2), activation='relu')(up_conv1)\n",
    "    up_conv2 = concatenate([up_conv2, conv3])\n",
    "    up_conv2 = Conv2D(num_input_neurons * 4, (3,3), activation='relu', padding='same')(up_conv2)\n",
    "    up_conv2 = Conv2D(num_input_neurons * 4, (3,3), activation='relu', padding='same')(up_conv2)\n",
    "\n",
    "    up_conv3 = Conv2DTranspose(num_input_neurons * 2, (3,3),strides=(2,2), activation='relu')(up_conv2)\n",
    "    up_conv3 = concatenate([up_conv3, conv2])\n",
    "    up_conv3 = Conv2D(num_input_neurons * 2, (3,3), activation='relu', padding='same')(up_conv3)\n",
    "    up_conv3 = Conv2D(num_input_neurons * 2, (3,3), activation='relu', padding='same')(up_conv3)\n",
    "\n",
    "    up_conv4 = Conv2DTranspose(num_input_neurons, (3,3),strides=(2,2), activation='relu')(up_conv3)\n",
    "    up_conv4 = concatenate([up_conv4, conv1])\n",
    "    up_conv4 = Conv2D(num_input_neurons, (3,3), activation='relu', padding='same')(up_conv4)\n",
    "    up_conv4 = Conv2D(num_input_neurons, (3,3), activation='relu', padding='same')(up_conv4)\n",
    "\n",
    "    return Conv2D(1, (1,1), padding='same', activation='sigmoid')(up_conv4)"
   ]
  },
  {
   "cell_type": "code",
   "execution_count": 2,
   "metadata": {},
   "outputs": [
    {
     "name": "stdout",
     "output_type": "stream",
     "text": [
      "Train on 50 samples\n",
      "Epoch 1/2\n",
      "50/50 [==============================] - 87s 2s/sample - loss: 0.9805\n",
      "Epoch 2/2\n",
      "50/50 [==============================] - 0s 3ms/sample - loss: 0.9748\n"
     ]
    },
    {
     "data": {
      "text/plain": [
       "<tensorflow.python.keras.callbacks.History at 0x201775c5c18>"
      ]
     },
     "execution_count": 2,
     "metadata": {},
     "output_type": "execute_result"
    }
   ],
   "source": [
    "network.compile(optimizer='adam', loss=keras.losses.BinaryCrossentropy(from_logits=True))\n",
    "\n",
    "network.fit(X_train, y_train, batch_size=12, epochs=2)"
   ]
  },
  {
   "cell_type": "code",
   "execution_count": 3,
   "metadata": {},
   "outputs": [
    {
     "name": "stdout",
     "output_type": "stream",
     "text": [
      "(20, 256, 256, 3)\n"
     ]
    }
   ],
   "source": [
    "y_test = network.predict(np.random.randn(20,256,256,3))\n",
    "print(y_test.shape)"
   ]
  },
  {
   "cell_type": "code",
   "execution_count": null,
   "metadata": {},
   "outputs": [],
   "source": []
  }
 ],
 "metadata": {
  "interpreter": {
   "hash": "b10dfdc61070be5a3099ef7624cf4752ee91046e0cd4a116dac97bdbe5c956e3"
  },
  "kernelspec": {
   "display_name": "Python 3.6.13 64-bit ('proglearn': conda)",
   "name": "python3"
  },
  "language_info": {
   "codemirror_mode": {
    "name": "ipython",
    "version": 3
   },
   "file_extension": ".py",
   "mimetype": "text/x-python",
   "name": "python",
   "nbconvert_exporter": "python",
   "pygments_lexer": "ipython3",
   "version": "3.6.13"
  },
  "orig_nbformat": 4
 },
 "nbformat": 4,
 "nbformat_minor": 2
}
