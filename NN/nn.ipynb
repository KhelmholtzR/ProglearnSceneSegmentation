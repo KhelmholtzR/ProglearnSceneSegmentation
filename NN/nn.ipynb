{
 "cells": [
  {
   "cell_type": "markdown",
   "metadata": {},
   "source": [
    "# Neural Network"
   ]
  },
  {
   "cell_type": "code",
   "execution_count": 1,
   "metadata": {},
   "outputs": [
    {
     "name": "stdout",
     "output_type": "stream",
     "text": [
      "Model: \"sequential\"\n",
      "_________________________________________________________________\n",
      "Layer (type)                 Output Shape              Param #   \n",
      "=================================================================\n",
      "dense (Dense)                (None, 256, 256, 12)      48        \n",
      "_________________________________________________________________\n",
      "dense_1 (Dense)              (None, 256, 256, 8)       104       \n",
      "_________________________________________________________________\n",
      "dense_2 (Dense)              (None, 256, 256, 3)       27        \n",
      "=================================================================\n",
      "Total params: 179\n",
      "Trainable params: 179\n",
      "Non-trainable params: 0\n",
      "_________________________________________________________________\n"
     ]
    }
   ],
   "source": [
    "from tensorflow import keras\n",
    "from tensorflow.keras.layers import Dense\n",
    "import numpy as np\n",
    "\n",
    "# place holder data\n",
    "X_train = np.random.randn(50, 256,256, 3)\n",
    "y_train = np.round(np.random.randn(50, 256,256, 3))\n",
    "input_shape = (256, 256, 3)\n",
    "\n",
    "network = keras.Sequential()\n",
    "network.add(keras.Input(input_shape))\n",
    "network.add(Dense(12, activation='linear'))\n",
    "network.add(Dense(8, activation='relu'))\n",
    "network.add(Dense(3, activation='sigmoid'))\n",
    "network.summary()"
   ]
  },
  {
   "cell_type": "code",
   "execution_count": 2,
   "metadata": {},
   "outputs": [
    {
     "name": "stdout",
     "output_type": "stream",
     "text": [
      "Train on 50 samples\n",
      "Epoch 1/2\n",
      "50/50 [==============================] - 87s 2s/sample - loss: 0.9805\n",
      "Epoch 2/2\n",
      "50/50 [==============================] - 0s 3ms/sample - loss: 0.9748\n"
     ]
    },
    {
     "data": {
      "text/plain": [
       "<tensorflow.python.keras.callbacks.History at 0x201775c5c18>"
      ]
     },
     "execution_count": 2,
     "metadata": {},
     "output_type": "execute_result"
    }
   ],
   "source": [
    "network.compile(optimizer='adam', loss=keras.losses.BinaryCrossentropy(from_logits=True))\n",
    "\n",
    "network.fit(X_train, y_train, batch_size=12, epochs=2)"
   ]
  },
  {
   "cell_type": "code",
   "execution_count": 3,
   "metadata": {},
   "outputs": [
    {
     "name": "stdout",
     "output_type": "stream",
     "text": [
      "(20, 256, 256, 3)\n"
     ]
    }
   ],
   "source": [
    "y_test = network.predict(np.random.randn(20,256,256,3))\n",
    "print(y_test.shape)"
   ]
  },
  {
   "cell_type": "code",
   "execution_count": null,
   "metadata": {},
   "outputs": [],
   "source": []
  }
 ],
 "metadata": {
  "interpreter": {
   "hash": "b10dfdc61070be5a3099ef7624cf4752ee91046e0cd4a116dac97bdbe5c956e3"
  },
  "kernelspec": {
   "display_name": "Python 3.6.13 64-bit ('proglearn': conda)",
   "name": "python3"
  },
  "language_info": {
   "codemirror_mode": {
    "name": "ipython",
    "version": 3
   },
   "file_extension": ".py",
   "mimetype": "text/x-python",
   "name": "python",
   "nbconvert_exporter": "python",
   "pygments_lexer": "ipython3",
   "version": "3.6.13"
  },
  "orig_nbformat": 4
 },
 "nbformat": 4,
 "nbformat_minor": 2
}
